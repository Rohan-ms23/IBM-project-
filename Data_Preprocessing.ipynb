import pandas as pd
import re

# Load dataset
df = pd.read_csv("data/twitter_sarcasm.csv")

# Clean text
def clean_text(text):
    text = re.sub(r'http\S+|@\w+', '', text)  # Remove URLs/handles
    return text.strip().lower()

df['cleaned_text'] = df['text'].apply(clean_text)
df.to_csv("data/cleaned_data.csv", index=False)
