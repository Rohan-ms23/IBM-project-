# Compare F1-scores
import matplotlib.pyplot as plt
models = ['LSTM', 'BERT']
f1_scores = [0.68, 0.83]
plt.bar(models, f1_scores, color=['red', 'blue'])
plt.title('F1-Score Comparison')
plt.savefig('images/f1_comparison.png')

# Confusion Matrix
from sklearn.metrics import ConfusionMatrixDisplay
ConfusionMatrixDisplay.from_predictions(y_val, bert_preds)
plt.savefig('images/confusion_matrix.png')￼Enter
